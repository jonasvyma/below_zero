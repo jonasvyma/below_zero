{
 "cells": [
  {
   "cell_type": "markdown",
   "id": "141f41f2",
   "metadata": {},
   "source": [
    "### Installing packages"
   ]
  },
  {
   "cell_type": "code",
   "execution_count": 1,
   "id": "db7dea55",
   "metadata": {},
   "outputs": [
    {
     "name": "stdout",
     "output_type": "stream",
     "text": [
      "Collecting natsort\n",
      "  Downloading natsort-8.4.0-py3-none-any.whl.metadata (21 kB)\n",
      "Downloading natsort-8.4.0-py3-none-any.whl (38 kB)\n",
      "Installing collected packages: natsort\n",
      "Successfully installed natsort-8.4.0\n"
     ]
    }
   ],
   "source": [
    "#Instralling packages\n",
    "!pip install natsort"
   ]
  },
  {
   "cell_type": "markdown",
   "id": "05d014ae",
   "metadata": {},
   "source": [
    "### Defining ANSI codes for colored text prints "
   ]
  },
  {
   "cell_type": "code",
   "execution_count": 17,
   "id": "11ff2fd6",
   "metadata": {},
   "outputs": [],
   "source": [
    "# ANSI escape codes, to make log prints nicer\n",
    "RED = \"\\033[31m\"\n",
    "GREEN = \"\\033[32m\"\n",
    "YELLOW = \"\\033[33m\"\n",
    "BLUE = \"\\033[34m\"\n",
    "BOLD = \"\\033[1m\"\n",
    "ITALIC = \"\\x1B[3m\"\n",
    "UNDERLINED = \"\\033[4m\"\n",
    "RESET = \"\\033[0m\"\n",
    "WHITE_BG    = \"\\x1b[47m\\033[30m\" # adding \\033[30m makes text black\n",
    "GREEN_BG    = \"\\x1b[102m\\033[30m\" # adding \\033[30m makes text black\n",
    "\n",
    "# https://jakob-bagterp.github.io/colorist-for-python/ansi-escape-codes/standard-16-colors/#bright-colors_2"
   ]
  },
  {
   "cell_type": "code",
   "execution_count": 18,
   "id": "25d944c2",
   "metadata": {},
   "outputs": [],
   "source": [
    "import pandas as pd\n",
    "import os\n",
    "from natsort import os_sorted\n",
    "from datetime import datetime, timedelta\n",
    "import requests\n",
    "import zipfile\n",
    "import warnings \n",
    "import urllib3\n",
    "\n",
    "from dotenv import dotenv_values\n",
    "from sqlalchemy import create_engine, types, text\n",
    "\n",
    "# we'll suppress the \"missing SSL certificate\" warnings while downloading files\n",
    "warnings.simplefilter(\"ignore\", urllib3.exceptions.InsecureRequestWarning) "
   ]
  },
  {
   "cell_type": "markdown",
   "id": "e26b3b63",
   "metadata": {},
   "source": [
    "## Data Download\n",
    "**Sources**  \n",
    ">Raw Data: https://transtats.bts.gov/PREZIP/  \n",
    ">Website: https://transtats.bts.gov"
   ]
  },
  {
   "cell_type": "code",
   "execution_count": 19,
   "id": "2d90d93e",
   "metadata": {},
   "outputs": [],
   "source": [
    "# 1. Decide on starting month and total number of months\n",
    "start = '07.2005' # Enter the starting month and the year (MM.YYYY)\n",
    "length = 3 # How many months do you need?"
   ]
  },
  {
   "cell_type": "code",
   "execution_count": 20,
   "id": "a77af291",
   "metadata": {},
   "outputs": [],
   "source": [
    "# 2. Create folders for the zip files download and for the CSV-files extraction\n",
    "os.makedirs('./downloads/extracted', exist_ok=True)"
   ]
  },
  {
   "cell_type": "code",
   "execution_count": 21,
   "id": "c58e346b",
   "metadata": {},
   "outputs": [
    {
     "name": "stdout",
     "output_type": "stream",
     "text": [
      "['2005_7', '2005_8', '2005_9']\n"
     ]
    }
   ],
   "source": [
    "# 3. Create a list of months for the flight\n",
    "\n",
    "# Generate list of MM.YYYY values for one year\n",
    "def generate_year_list(start, length):\n",
    "    start_date = datetime.strptime(start, '%m.%Y')\n",
    "    return [f\"{dt.year}_{dt.month}\" for dt in\n",
    "        (start_date + timedelta(days=31 * i) for i in range(length))]\n",
    "\n",
    "# MM_YYYY values for the period lenght\n",
    "year_month_list = generate_year_list(start, length)\n",
    "\n",
    "print(year_month_list)"
   ]
  },
  {
   "cell_type": "code",
   "execution_count": 22,
   "id": "186eab62",
   "metadata": {},
   "outputs": [
    {
     "name": "stdout",
     "output_type": "stream",
     "text": [
      "\n",
      " ⏳ This should take \u001b[31m~35 seconds...\u001b[0m\n",
      "\n",
      "    ⬇️ \u001b[34mdownloading:\u001b[0m On_Time_Reporting_Carrier_On_Time_Performance_1987_present_2005_7.zip\n",
      "    ✅ \u001b[32mfile saved:\u001b[0m On_Time_Reporting_Carrier_On_Time_Performance_1987_present_2005_7.zip \u001b[32m(27.64 MB)\u001b[0m\n",
      "\n",
      " 🦊 Actually it took: \u001b[33m37 seconds\n",
      "\u001b[0m --------------------------------------------------------------------------------\n",
      "\n",
      " ⏳ This should take \u001b[31m~35 seconds...\u001b[0m\n",
      "\n",
      "    ⬇️ \u001b[34mdownloading:\u001b[0m On_Time_Reporting_Carrier_On_Time_Performance_1987_present_2005_8.zip\n",
      "    ✅ \u001b[32mfile saved:\u001b[0m On_Time_Reporting_Carrier_On_Time_Performance_1987_present_2005_8.zip \u001b[32m(28.21 MB)\u001b[0m\n",
      "\n",
      " 🦊 Actually it took: \u001b[33m38 seconds\n",
      "\u001b[0m --------------------------------------------------------------------------------\n",
      "\n",
      " ⏳ This should take \u001b[31m~35 seconds...\u001b[0m\n",
      "\n",
      "    ⬇️ \u001b[34mdownloading:\u001b[0m On_Time_Reporting_Carrier_On_Time_Performance_1987_present_2005_9.zip\n",
      "    ✅ \u001b[32mfile saved:\u001b[0m On_Time_Reporting_Carrier_On_Time_Performance_1987_present_2005_9.zip \u001b[32m(24.82 MB)\u001b[0m\n",
      "\n",
      " 🦊 Actually it took: \u001b[33m32 seconds\n",
      "\u001b[0m --------------------------------------------------------------------------------\n",
      " 🦊 Total Download Time: \u001b[33m1 minutes and 47 seconds\n",
      "\u001b[0m\n",
      " 🐹 Used Disk Space: \u001b[32m(80.66 MB)\u001b[0m\n"
     ]
    }
   ],
   "source": [
    "# 4. Download ZIP files (~35 seconds per one file)\n",
    "\n",
    "# Define the URL of the ZIP file\n",
    "base_url = 'https://transtats.bts.gov/PREZIP/'\n",
    "download_time = timedelta(0) # for time logging\n",
    "disk_space_zip = 0\n",
    "\n",
    "for year_month in year_month_list:\n",
    "\n",
    "    # Define the URL of the ZIP file and the CSV file\n",
    "    zip_name = f'On_Time_Reporting_Carrier_On_Time_Performance_1987_present_{year_month}.zip'\n",
    "\n",
    "    print(f'\\n ⏳ This should take {RED}~35 seconds...{RESET}\\n\\n    ⬇️ {BLUE}downloading:{RESET} {zip_name}')\n",
    "    print(f'    🐌 {YELLOW}wait for it...{RESET}', end='\\r')\n",
    "    start_time = datetime.now()\n",
    "\n",
    "    # Send a HTTP request to the specified URL and save the response content\n",
    "    response = requests.get(base_url+zip_name, verify=False) # we ignore the SSL certificate warnings\n",
    "\n",
    "    with open(f'./downloads/{zip_name}', 'wb') as file: # save the ZIP in \"downloads folder\"\n",
    "        file.write(response.content)\n",
    "        print(f'    ✅ {GREEN}file saved:{RESET} {zip_name}', end=' ')\n",
    "    \n",
    "    # assessing the size of the downloaded file\n",
    "    file_size = os.path.getsize(f'./downloads/{zip_name}') \n",
    "    size_in_mb = file_size / (1024 ** 2) \n",
    "    print(f'{GREEN}({size_in_mb:.2f} MB){RESET}\\n')\n",
    "    disk_space_zip += file_size\n",
    "\n",
    "    # just some fun with basic time logging  \n",
    "    end_time = datetime.now()\n",
    "    time_difference = end_time - start_time\n",
    "    download_time = download_time + time_difference\n",
    "    if (time_difference.seconds // 60) < 1:\n",
    "        print(f' 🦊 Actually it took: {YELLOW}{time_difference.seconds % 60} seconds\\n{RESET}','-'*80)\n",
    "    else:\n",
    "        print(f' 🦊 Actually it took: {YELLOW}{time_difference.seconds // 60} minutes and {time_difference.seconds % 60} seconds\\n{RESET}','-'*80)\n",
    "print(f' 🦊 Total Download Time: {YELLOW}{download_time.seconds // 60} minutes and {download_time.seconds % 60} seconds\\n{RESET}')\n",
    "print(f' 🐹 Used Disk Space: {GREEN}({(disk_space_zip / (1024 ** 2)):.2f} MB){RESET}')"
   ]
  },
  {
   "cell_type": "code",
   "execution_count": 23,
   "id": "ede56dfd",
   "metadata": {},
   "outputs": [
    {
     "name": "stdout",
     "output_type": "stream",
     "text": [
      "    🍌 extracted \"On_Time_Reporting_Carrier_On_Time_Performance_(1987_present)_2005_7.csv \u001b[32m(269.35 MB)\u001b[0m\n",
      "\n",
      "    🍌 extracted \"On_Time_Reporting_Carrier_On_Time_Performance_(1987_present)_2005_8.csv \u001b[32m(270.04 MB)\u001b[0m\n",
      "\n",
      "    🍌 extracted \"On_Time_Reporting_Carrier_On_Time_Performance_(1987_present)_2005_9.csv \u001b[32m(244.96 MB)\u001b[0m\n",
      "\n",
      "-------------------------------------------------------------------------------- \n",
      " 🐹 Used Disk Space: \u001b[32m(784.34 MB)\u001b[0m\n"
     ]
    }
   ],
   "source": [
    "# 5. Extracting CSV files only\n",
    "\n",
    "disk_space_csv = 0\n",
    "\n",
    "for year_month in year_month_list:\n",
    "\n",
    "    # Define the name of the ZIP file and the CSV file\n",
    "    zip_name = f'On_Time_Reporting_Carrier_On_Time_Performance_1987_present_{year_month}.zip'\n",
    "    csv_name = f'On_Time_Reporting_Carrier_On_Time_Performance_(1987_present)_{year_month}.csv'\n",
    "\n",
    "    # Open the downloaded ZIP file\n",
    "    with zipfile.ZipFile(f'./downloads/{zip_name}', 'r') as zip_ref:\n",
    "        # Extract the CSV file\n",
    "        zip_ref.extract(csv_name, path='./downloads/extracted/') # save the CSV in \"downloads folder\"\n",
    "        print(f'    🍌 extracted \"{csv_name}', end=' ')\n",
    "        \n",
    "    # assessing the size of the extracted file\n",
    "    file_size = os.path.getsize(f'./downloads/extracted/{csv_name}') \n",
    "    size_in_mb = file_size / (1024 ** 2) \n",
    "    print(f\"{GREEN}({size_in_mb:.2f} MB){RESET}\\n\")\n",
    "    disk_space_csv += file_size\n",
    "\n",
    "print('-'*80,f'\\n 🐹 Used Disk Space: {GREEN}({(disk_space_csv / (1024 ** 2)):.2f} MB){RESET}')"
   ]
  },
  {
   "cell_type": "markdown",
   "id": "a35bc4cc",
   "metadata": {},
   "source": [
    "# Data Wrangling\n",
    "\n",
    "### 1. adding all CSV file names to a list"
   ]
  },
  {
   "cell_type": "code",
   "execution_count": 24,
   "id": "52c2b786",
   "metadata": {},
   "outputs": [
    {
     "data": {
      "text/plain": [
       "['On_Time_Reporting_Carrier_On_Time_Performance_(1987_present)_2005_7.csv',\n",
       " 'On_Time_Reporting_Carrier_On_Time_Performance_(1987_present)_2005_8.csv',\n",
       " 'On_Time_Reporting_Carrier_On_Time_Performance_(1987_present)_2005_9.csv']"
      ]
     },
     "execution_count": 24,
     "metadata": {},
     "output_type": "execute_result"
    }
   ],
   "source": [
    "# Add all file names from the \"extracted\" folder to a list\n",
    "file_names = os.listdir('./downloads/extracted/')\n",
    "\n",
    "# make sure only the data files are in the list\n",
    "file_names_unordered = [fname for fname in file_names if fname.startswith(\"On_Time_Reporting_Carrier_On_Time_Performance_(1987_present)_\")]\n",
    "\n",
    "# using os_sorted function (from natsort) - able to sort strings with numbers ['2','1','11']\n",
    "# sorted(['2','1','11']) # for comparison\n",
    "data_files = os_sorted(file_names_unordered)\n",
    "\n",
    "data_files"
   ]
  },
  {
   "cell_type": "code",
   "execution_count": 25,
   "id": "73715e91",
   "metadata": {},
   "outputs": [
    {
     "data": {
      "text/plain": [
       "(627961, 110)"
      ]
     },
     "execution_count": 25,
     "metadata": {},
     "output_type": "execute_result"
    }
   ],
   "source": [
    "# we have 110 columns in each CSV...\n",
    "file_check = pd.read_csv(f'./downloads/extracted/{data_files[0]}', low_memory = False)\n",
    "file_check.shape"
   ]
  },
  {
   "cell_type": "code",
   "execution_count": 26,
   "id": "a7752ede",
   "metadata": {},
   "outputs": [
    {
     "name": "stdout",
     "output_type": "stream",
     "text": [
      "['Year', 'Quarter', 'Month', 'DayofMonth', 'DayOfWeek', 'FlightDate', 'Reporting_Airline', 'DOT_ID_Reporting_Airline', 'IATA_CODE_Reporting_Airline', 'Tail_Number', 'Flight_Number_Reporting_Airline', 'OriginAirportID', 'OriginAirportSeqID', 'OriginCityMarketID', 'Origin', 'OriginCityName', 'OriginState', 'OriginStateFips', 'OriginStateName', 'OriginWac', 'DestAirportID', 'DestAirportSeqID', 'DestCityMarketID', 'Dest', 'DestCityName', 'DestState', 'DestStateFips', 'DestStateName', 'DestWac', 'CRSDepTime', 'DepTime', 'DepDelay', 'DepDelayMinutes', 'DepDel15', 'DepartureDelayGroups', 'DepTimeBlk', 'TaxiOut', 'WheelsOff', 'WheelsOn', 'TaxiIn', 'CRSArrTime', 'ArrTime', 'ArrDelay', 'ArrDelayMinutes', 'ArrDel15', 'ArrivalDelayGroups', 'ArrTimeBlk', 'Cancelled', 'CancellationCode', 'Diverted', 'CRSElapsedTime', 'ActualElapsedTime', 'AirTime', 'Flights', 'Distance', 'DistanceGroup', 'CarrierDelay', 'WeatherDelay', 'NASDelay', 'SecurityDelay', 'LateAircraftDelay', 'FirstDepTime', 'TotalAddGTime', 'LongestAddGTime', 'DivAirportLandings', 'DivReachedDest', 'DivActualElapsedTime', 'DivArrDelay', 'DivDistance', 'Div1Airport', 'Div1AirportID', 'Div1AirportSeqID', 'Div1WheelsOn', 'Div1TotalGTime', 'Div1LongestGTime', 'Div1WheelsOff', 'Div1TailNum', 'Div2Airport', 'Div2AirportID', 'Div2AirportSeqID', 'Div2WheelsOn', 'Div2TotalGTime', 'Div2LongestGTime', 'Div2WheelsOff', 'Div2TailNum', 'Div3Airport', 'Div3AirportID', 'Div3AirportSeqID', 'Div3WheelsOn', 'Div3TotalGTime', 'Div3LongestGTime', 'Div3WheelsOff', 'Div3TailNum', 'Div4Airport', 'Div4AirportID', 'Div4AirportSeqID', 'Div4WheelsOn', 'Div4TotalGTime', 'Div4LongestGTime', 'Div4WheelsOff', 'Div4TailNum', 'Div5Airport', 'Div5AirportID', 'Div5AirportSeqID', 'Div5WheelsOn', 'Div5TotalGTime', 'Div5LongestGTime', 'Div5WheelsOff', 'Div5TailNum', 'Unnamed: 109']\n"
     ]
    }
   ],
   "source": [
    "print(file_check.columns.to_list())"
   ]
  },
  {
   "cell_type": "code",
   "execution_count": 27,
   "id": "8b1bfa27",
   "metadata": {},
   "outputs": [],
   "source": [
    "# select columns to keep\n",
    "def cols_to_keep(flights_raw):\n",
    "    columns_to_keep = [\n",
    "        \"FlightDate\",\n",
    "        \"DepTime\",\n",
    "        \"CRSDepTime\",\n",
    "        \"DepDelay\",\n",
    "        \"ArrTime\",\n",
    "        \"CRSArrTime\",\n",
    "        \"ArrDelay\",\n",
    "        \"Reporting_Airline\",\n",
    "        \"Tail_Number\",\n",
    "        \"Flight_Number_Reporting_Airline\",\n",
    "        \"Origin\",\n",
    "        \"Dest\",\n",
    "        \"AirTime\",\n",
    "        \"ActualElapsedTime\",\n",
    "        \"Distance\",\n",
    "        \"Cancelled\",\n",
    "        \"Diverted\",\n",
    "    ]\n",
    "    flights = flights_raw.loc[:, columns_to_keep]\n",
    "    return flights"
   ]
  },
  {
   "cell_type": "code",
   "execution_count": 28,
   "id": "73b3a59d",
   "metadata": {},
   "outputs": [],
   "source": [
    "# rename columns\n",
    "def rename_cols(flights):\n",
    "    new_column_names = {\n",
    "        'FlightDate': 'flight_date',\n",
    "        'DepTime': 'dep_time',\n",
    "        'CRSDepTime': 'sched_dep_time',\n",
    "        'DepDelay': 'dep_delay',\n",
    "        'ArrTime': 'arr_time',\n",
    "        'CRSArrTime': 'sched_arr_time',\n",
    "        'ArrDelay': 'arr_delay',\n",
    "        'Reporting_Airline': 'airline',\n",
    "        'Tail_Number': 'tail_number',\n",
    "        'Flight_Number_Reporting_Airline': 'flight_number',\n",
    "        'Origin': 'origin',\n",
    "        'Dest': 'dest',\n",
    "        'AirTime': 'air_time',\n",
    "        'ActualElapsedTime': 'actual_elapsed_time',\n",
    "        'Distance': 'distance',\n",
    "        'Cancelled': 'cancelled',\n",
    "        'Diverted': 'diverted'\n",
    "    }\n",
    "    flights.rename(columns=new_column_names, inplace=True)\n",
    "    return flights"
   ]
  },
  {
   "cell_type": "code",
   "execution_count": 29,
   "id": "1afde5a1",
   "metadata": {},
   "outputs": [],
   "source": [
    "# change datatype\n",
    "def change_dtypes(flights):\n",
    "    types_change = {\n",
    "        'flight_date': 'datetime64[ns]',\n",
    "        'dep_time': 'Int16',\n",
    "        'sched_dep_time': 'Int16',\n",
    "        'dep_delay': 'Int16',\n",
    "        'arr_time': 'Int16',\n",
    "        'sched_arr_time': 'Int16',\n",
    "        'arr_delay': 'Int16',\n",
    "        'airline': 'O',\n",
    "        'tail_number': 'O',\n",
    "        'flight_number': 'Int16',\n",
    "        'origin': 'O',\n",
    "        'dest': 'O',\n",
    "        'air_time': 'Int16',\n",
    "        'actual_elapsed_time': 'Int16',\n",
    "        'distance': 'Int16',\n",
    "        'cancelled': 'Int16',\n",
    "        'diverted': 'Int16'\n",
    "    }\n",
    "    flights = flights.astype(types_change)\n",
    "    return flights"
   ]
  },
  {
   "cell_type": "code",
   "execution_count": 30,
   "id": "643dc19d",
   "metadata": {},
   "outputs": [
    {
     "data": {
      "text/plain": [
       "['On_Time_Reporting_Carrier_On_Time_Performance_(1987_present)_2005_7.csv',\n",
       " 'On_Time_Reporting_Carrier_On_Time_Performance_(1987_present)_2005_8.csv',\n",
       " 'On_Time_Reporting_Carrier_On_Time_Performance_(1987_present)_2005_9.csv']"
      ]
     },
     "execution_count": 30,
     "metadata": {},
     "output_type": "execute_result"
    }
   ],
   "source": [
    "data_files\n"
   ]
  },
  {
   "cell_type": "code",
   "execution_count": 31,
   "id": "bbb673c9",
   "metadata": {},
   "outputs": [
    {
     "name": "stdout",
     "output_type": "stream",
     "text": [
      "On_Time_Reporting_Carrier_On_Time_Performance_(1987_present)_2005_7.csv\n",
      "reading... filter colums... rename colums... change dtypes... ✅ \u001b[32mappended to flight_list\u001b[0m\n",
      "\n",
      "On_Time_Reporting_Carrier_On_Time_Performance_(1987_present)_2005_8.csv\n",
      "reading... filter colums... rename colums... change dtypes... ✅ \u001b[32mappended to flight_list\u001b[0m\n",
      "\n",
      "On_Time_Reporting_Carrier_On_Time_Performance_(1987_present)_2005_9.csv\n",
      "reading... filter colums... rename colums... change dtypes... ✅ \u001b[32mappended to flight_list\u001b[0m\n",
      "\n",
      "Done. The list has 3 elements\n"
     ]
    }
   ],
   "source": [
    "# list for separate dataframes\n",
    "flights_list = []\n",
    "\n",
    "#  loop over the extracted csv files and execute functions \n",
    "for file in data_files:\n",
    "    print(file)\n",
    "    # 1. read as a dataframe\n",
    "    print('reading...', end=\" \")\n",
    "    flights_raw = pd.read_csv(f'./downloads/extracted/{file}', low_memory = False) \n",
    "\n",
    "    # 2.select columns to keep\n",
    "    flights_select = cols_to_keep(flights_raw) \n",
    "    print('filter colums...', end=\" \")\n",
    "    \n",
    "    # 3. rename columns\n",
    "    flights_rename = rename_cols(flights_select) \n",
    "    print('rename colums...', end=\" \")\n",
    "\n",
    "    # 4. change data types\n",
    "    flights_dtypes = change_dtypes(flights_rename) \n",
    "    print('change dtypes...', end=\" \")\n",
    "    \n",
    "    # 5. add to the list of dateframes\n",
    "    flights_list.append(flights_dtypes) \n",
    "    print(f'✅ {GREEN}appended to flight_list{RESET}\\n')\n",
    "    \n",
    "print(f'Done. The list has {len(flights_list)} elements')"
   ]
  },
  {
   "cell_type": "code",
   "execution_count": 32,
   "id": "3cf4f6ea",
   "metadata": {},
   "outputs": [],
   "source": [
    "# 6. concatenate the list of dataframes to a one dataframe\n",
    "flights_all = pd.concat(flights_list)"
   ]
  },
  {
   "cell_type": "code",
   "execution_count": 33,
   "id": "a8ad4b6e",
   "metadata": {},
   "outputs": [
    {
     "data": {
      "text/html": [
       "<div>\n",
       "<style scoped>\n",
       "    .dataframe tbody tr th:only-of-type {\n",
       "        vertical-align: middle;\n",
       "    }\n",
       "\n",
       "    .dataframe tbody tr th {\n",
       "        vertical-align: top;\n",
       "    }\n",
       "\n",
       "    .dataframe thead th {\n",
       "        text-align: right;\n",
       "    }\n",
       "</style>\n",
       "<table border=\"1\" class=\"dataframe\">\n",
       "  <thead>\n",
       "    <tr style=\"text-align: right;\">\n",
       "      <th></th>\n",
       "      <th>flight_date</th>\n",
       "      <th>dep_time</th>\n",
       "      <th>sched_dep_time</th>\n",
       "      <th>dep_delay</th>\n",
       "      <th>arr_time</th>\n",
       "      <th>sched_arr_time</th>\n",
       "      <th>arr_delay</th>\n",
       "      <th>airline</th>\n",
       "      <th>tail_number</th>\n",
       "      <th>flight_number</th>\n",
       "      <th>origin</th>\n",
       "      <th>dest</th>\n",
       "      <th>air_time</th>\n",
       "      <th>actual_elapsed_time</th>\n",
       "      <th>distance</th>\n",
       "      <th>cancelled</th>\n",
       "      <th>diverted</th>\n",
       "    </tr>\n",
       "  </thead>\n",
       "  <tbody>\n",
       "    <tr>\n",
       "      <th>65173</th>\n",
       "      <td>2005-07-01</td>\n",
       "      <td>55</td>\n",
       "      <td>5</td>\n",
       "      <td>50</td>\n",
       "      <td>759</td>\n",
       "      <td>711</td>\n",
       "      <td>48</td>\n",
       "      <td>AS</td>\n",
       "      <td>N647AS</td>\n",
       "      <td>168</td>\n",
       "      <td>ANC</td>\n",
       "      <td>DEN</td>\n",
       "      <td>284</td>\n",
       "      <td>304</td>\n",
       "      <td>2405</td>\n",
       "      <td>0</td>\n",
       "      <td>0</td>\n",
       "    </tr>\n",
       "    <tr>\n",
       "      <th>123803</th>\n",
       "      <td>2005-07-01</td>\n",
       "      <td>222</td>\n",
       "      <td>8</td>\n",
       "      <td>134</td>\n",
       "      <td>1001</td>\n",
       "      <td>755</td>\n",
       "      <td>126</td>\n",
       "      <td>DL</td>\n",
       "      <td>N6705Y</td>\n",
       "      <td>2093</td>\n",
       "      <td>LAS</td>\n",
       "      <td>JFK</td>\n",
       "      <td>252</td>\n",
       "      <td>279</td>\n",
       "      <td>2248</td>\n",
       "      <td>0</td>\n",
       "      <td>0</td>\n",
       "    </tr>\n",
       "    <tr>\n",
       "      <th>59482</th>\n",
       "      <td>2005-07-01</td>\n",
       "      <td>22</td>\n",
       "      <td>10</td>\n",
       "      <td>12</td>\n",
       "      <td>504</td>\n",
       "      <td>502</td>\n",
       "      <td>2</td>\n",
       "      <td>AA</td>\n",
       "      <td>N3CWAA</td>\n",
       "      <td>2482</td>\n",
       "      <td>LAX</td>\n",
       "      <td>DFW</td>\n",
       "      <td>140</td>\n",
       "      <td>162</td>\n",
       "      <td>1235</td>\n",
       "      <td>0</td>\n",
       "      <td>0</td>\n",
       "    </tr>\n",
       "    <tr>\n",
       "      <th>109493</th>\n",
       "      <td>2005-07-01</td>\n",
       "      <td>201</td>\n",
       "      <td>10</td>\n",
       "      <td>111</td>\n",
       "      <td>919</td>\n",
       "      <td>740</td>\n",
       "      <td>99</td>\n",
       "      <td>DH</td>\n",
       "      <td>N807BR</td>\n",
       "      <td>777</td>\n",
       "      <td>LAS</td>\n",
       "      <td>IAD</td>\n",
       "      <td>229</td>\n",
       "      <td>258</td>\n",
       "      <td>2066</td>\n",
       "      <td>0</td>\n",
       "      <td>0</td>\n",
       "    </tr>\n",
       "    <tr>\n",
       "      <th>305809</th>\n",
       "      <td>2005-07-01</td>\n",
       "      <td>15</td>\n",
       "      <td>10</td>\n",
       "      <td>5</td>\n",
       "      <td>717</td>\n",
       "      <td>732</td>\n",
       "      <td>-15</td>\n",
       "      <td>NW</td>\n",
       "      <td>N551NW</td>\n",
       "      <td>336</td>\n",
       "      <td>LAX</td>\n",
       "      <td>DTW</td>\n",
       "      <td>222</td>\n",
       "      <td>242</td>\n",
       "      <td>1979</td>\n",
       "      <td>0</td>\n",
       "      <td>0</td>\n",
       "    </tr>\n",
       "    <tr>\n",
       "      <th>...</th>\n",
       "      <td>...</td>\n",
       "      <td>...</td>\n",
       "      <td>...</td>\n",
       "      <td>...</td>\n",
       "      <td>...</td>\n",
       "      <td>...</td>\n",
       "      <td>...</td>\n",
       "      <td>...</td>\n",
       "      <td>...</td>\n",
       "      <td>...</td>\n",
       "      <td>...</td>\n",
       "      <td>...</td>\n",
       "      <td>...</td>\n",
       "      <td>...</td>\n",
       "      <td>...</td>\n",
       "      <td>...</td>\n",
       "      <td>...</td>\n",
       "    </tr>\n",
       "    <tr>\n",
       "      <th>224891</th>\n",
       "      <td>2005-09-30</td>\n",
       "      <td>3</td>\n",
       "      <td>2359</td>\n",
       "      <td>4</td>\n",
       "      <td>138</td>\n",
       "      <td>126</td>\n",
       "      <td>12</td>\n",
       "      <td>HP</td>\n",
       "      <td>N675AW</td>\n",
       "      <td>374</td>\n",
       "      <td>LAS</td>\n",
       "      <td>OAK</td>\n",
       "      <td>59</td>\n",
       "      <td>95</td>\n",
       "      <td>407</td>\n",
       "      <td>0</td>\n",
       "      <td>0</td>\n",
       "    </tr>\n",
       "    <tr>\n",
       "      <th>224892</th>\n",
       "      <td>2005-09-30</td>\n",
       "      <td>2351</td>\n",
       "      <td>2359</td>\n",
       "      <td>-8</td>\n",
       "      <td>51</td>\n",
       "      <td>100</td>\n",
       "      <td>-9</td>\n",
       "      <td>HP</td>\n",
       "      <td>N624AW</td>\n",
       "      <td>636</td>\n",
       "      <td>LAS</td>\n",
       "      <td>ONT</td>\n",
       "      <td>32</td>\n",
       "      <td>60</td>\n",
       "      <td>197</td>\n",
       "      <td>0</td>\n",
       "      <td>0</td>\n",
       "    </tr>\n",
       "    <tr>\n",
       "      <th>224902</th>\n",
       "      <td>2005-09-30</td>\n",
       "      <td>25</td>\n",
       "      <td>2359</td>\n",
       "      <td>26</td>\n",
       "      <td>127</td>\n",
       "      <td>111</td>\n",
       "      <td>16</td>\n",
       "      <td>HP</td>\n",
       "      <td>N907AW</td>\n",
       "      <td>57</td>\n",
       "      <td>LAS</td>\n",
       "      <td>PHX</td>\n",
       "      <td>39</td>\n",
       "      <td>62</td>\n",
       "      <td>256</td>\n",
       "      <td>0</td>\n",
       "      <td>0</td>\n",
       "    </tr>\n",
       "    <tr>\n",
       "      <th>224915</th>\n",
       "      <td>2005-09-30</td>\n",
       "      <td>25</td>\n",
       "      <td>2359</td>\n",
       "      <td>26</td>\n",
       "      <td>139</td>\n",
       "      <td>106</td>\n",
       "      <td>33</td>\n",
       "      <td>HP</td>\n",
       "      <td>N807AW</td>\n",
       "      <td>730</td>\n",
       "      <td>LAS</td>\n",
       "      <td>SAN</td>\n",
       "      <td>45</td>\n",
       "      <td>74</td>\n",
       "      <td>258</td>\n",
       "      <td>0</td>\n",
       "      <td>0</td>\n",
       "    </tr>\n",
       "    <tr>\n",
       "      <th>439010</th>\n",
       "      <td>2005-09-30</td>\n",
       "      <td>2353</td>\n",
       "      <td>2359</td>\n",
       "      <td>-6</td>\n",
       "      <td>539</td>\n",
       "      <td>549</td>\n",
       "      <td>-10</td>\n",
       "      <td>UA</td>\n",
       "      <td>N566UA</td>\n",
       "      <td>670</td>\n",
       "      <td>LAX</td>\n",
       "      <td>ORD</td>\n",
       "      <td>208</td>\n",
       "      <td>226</td>\n",
       "      <td>1745</td>\n",
       "      <td>0</td>\n",
       "      <td>0</td>\n",
       "    </tr>\n",
       "  </tbody>\n",
       "</table>\n",
       "<p>1833118 rows × 17 columns</p>\n",
       "</div>"
      ],
      "text/plain": [
       "       flight_date  dep_time  sched_dep_time  dep_delay  arr_time  \\\n",
       "65173   2005-07-01        55               5         50       759   \n",
       "123803  2005-07-01       222               8        134      1001   \n",
       "59482   2005-07-01        22              10         12       504   \n",
       "109493  2005-07-01       201              10        111       919   \n",
       "305809  2005-07-01        15              10          5       717   \n",
       "...            ...       ...             ...        ...       ...   \n",
       "224891  2005-09-30         3            2359          4       138   \n",
       "224892  2005-09-30      2351            2359         -8        51   \n",
       "224902  2005-09-30        25            2359         26       127   \n",
       "224915  2005-09-30        25            2359         26       139   \n",
       "439010  2005-09-30      2353            2359         -6       539   \n",
       "\n",
       "        sched_arr_time  arr_delay airline tail_number  flight_number origin  \\\n",
       "65173              711         48      AS      N647AS            168    ANC   \n",
       "123803             755        126      DL      N6705Y           2093    LAS   \n",
       "59482              502          2      AA      N3CWAA           2482    LAX   \n",
       "109493             740         99      DH      N807BR            777    LAS   \n",
       "305809             732        -15      NW      N551NW            336    LAX   \n",
       "...                ...        ...     ...         ...            ...    ...   \n",
       "224891             126         12      HP      N675AW            374    LAS   \n",
       "224892             100         -9      HP      N624AW            636    LAS   \n",
       "224902             111         16      HP      N907AW             57    LAS   \n",
       "224915             106         33      HP      N807AW            730    LAS   \n",
       "439010             549        -10      UA      N566UA            670    LAX   \n",
       "\n",
       "       dest  air_time  actual_elapsed_time  distance  cancelled  diverted  \n",
       "65173   DEN       284                  304      2405          0         0  \n",
       "123803  JFK       252                  279      2248          0         0  \n",
       "59482   DFW       140                  162      1235          0         0  \n",
       "109493  IAD       229                  258      2066          0         0  \n",
       "305809  DTW       222                  242      1979          0         0  \n",
       "...     ...       ...                  ...       ...        ...       ...  \n",
       "224891  OAK        59                   95       407          0         0  \n",
       "224892  ONT        32                   60       197          0         0  \n",
       "224902  PHX        39                   62       256          0         0  \n",
       "224915  SAN        45                   74       258          0         0  \n",
       "439010  ORD       208                  226      1745          0         0  \n",
       "\n",
       "[1833118 rows x 17 columns]"
      ]
     },
     "execution_count": 33,
     "metadata": {},
     "output_type": "execute_result"
    }
   ],
   "source": [
    "# sort dataframe \n",
    "flights_all.sort_values(['flight_date','sched_dep_time'], inplace=True)\n",
    "flights_all"
   ]
  },
  {
   "cell_type": "code",
   "execution_count": 34,
   "id": "d007d76b",
   "metadata": {},
   "outputs": [
    {
     "data": {
      "text/plain": [
       "(Timestamp('2005-07-01 00:00:00'), Timestamp('2005-09-30 00:00:00'))"
      ]
     },
     "execution_count": 34,
     "metadata": {},
     "output_type": "execute_result"
    }
   ],
   "source": [
    "# countercheck the time period\n",
    "flights_all['flight_date'].min(), flights_all['flight_date'].max()"
   ]
  },
  {
   "cell_type": "code",
   "execution_count": 35,
   "id": "c9c24035",
   "metadata": {},
   "outputs": [
    {
     "data": {
      "text/plain": [
       "'flights_from_2005_7_until_2005_9.csv'"
      ]
     },
     "execution_count": 35,
     "metadata": {},
     "output_type": "execute_result"
    }
   ],
   "source": [
    "# define the file name for the combined CSV file (using period's first and last month)\n",
    "output_file_name = f'flights_from_{year_month_list[0]}_until_{year_month_list[-1]}.csv'\n",
    "output_file_name"
   ]
  },
  {
   "cell_type": "code",
   "execution_count": 36,
   "id": "801d03be",
   "metadata": {},
   "outputs": [],
   "source": [
    "# create folder 'data'\n",
    "os.makedirs('./data', exist_ok=True)"
   ]
  },
  {
   "cell_type": "code",
   "execution_count": 37,
   "id": "3d498e66",
   "metadata": {},
   "outputs": [
    {
     "name": "stdout",
     "output_type": "stream",
     "text": [
      " ✅ \u001b[32mCombined Dataset Saved:\u001b[0m flights_from_2005_7_until_2005_9.csv \u001b[32m(127.52 MB)\u001b[0m\n",
      "\n",
      "/Users/pavelpavlov/Desktop/gaussian_peppers/below_zero/pavel/data/flights_from_2005_7_until_2005_9.csv\n"
     ]
    }
   ],
   "source": [
    "# saving\n",
    "flights_all.to_csv(f'./data/{output_file_name}', index=False)\n",
    "\n",
    "print(f' ✅ {GREEN}Combined Dataset Saved:{RESET} {output_file_name}', end=' ')\n",
    "\n",
    "# assessing the size of the extracted file\n",
    "file_size = os.path.getsize(f'./data/{output_file_name}') \n",
    "size_in_mb = file_size / (1024 ** 2) \n",
    "print(f\"{GREEN}({size_in_mb:.2f} MB){RESET}\\n\")\n",
    "\n",
    "# Get the absolute path\n",
    "absolute_path = os.path.abspath(f'./data/{output_file_name}')\n",
    "print(absolute_path)\n"
   ]
  },
  {
   "cell_type": "code",
   "execution_count": null,
   "id": "5a1d2d77",
   "metadata": {},
   "outputs": [],
   "source": []
  }
 ],
 "metadata": {
  "kernelspec": {
   "display_name": "base",
   "language": "python",
   "name": "python3"
  },
  "language_info": {
   "codemirror_mode": {
    "name": "ipython",
    "version": 3
   },
   "file_extension": ".py",
   "mimetype": "text/x-python",
   "name": "python",
   "nbconvert_exporter": "python",
   "pygments_lexer": "ipython3",
   "version": "3.13.5"
  }
 },
 "nbformat": 4,
 "nbformat_minor": 5
}
